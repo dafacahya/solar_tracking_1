{
 "cells": [
  {
   "cell_type": "code",
   "execution_count": 1,
   "metadata": {},
   "outputs": [
    {
     "name": "stderr",
     "output_type": "stream",
     "text": [
      "/tmp/ipykernel_1105/2324892354.py:1: DeprecationWarning: \n",
      "Pyarrow will become a required dependency of pandas in the next major release of pandas (pandas 3.0),\n",
      "(to allow more performant data types, such as the Arrow string type, and better interoperability with other libraries)\n",
      "but was not found to be installed on your system.\n",
      "If this would cause problems for you,\n",
      "please provide us feedback at https://github.com/pandas-dev/pandas/issues/54466\n",
      "        \n",
      "  import pandas as pd\n",
      "2024-02-11 09:08:12.063371: E external/local_xla/xla/stream_executor/cuda/cuda_dnn.cc:9261] Unable to register cuDNN factory: Attempting to register factory for plugin cuDNN when one has already been registered\n",
      "2024-02-11 09:08:12.063468: E external/local_xla/xla/stream_executor/cuda/cuda_fft.cc:607] Unable to register cuFFT factory: Attempting to register factory for plugin cuFFT when one has already been registered\n",
      "2024-02-11 09:08:12.515520: E external/local_xla/xla/stream_executor/cuda/cuda_blas.cc:1515] Unable to register cuBLAS factory: Attempting to register factory for plugin cuBLAS when one has already been registered\n",
      "2024-02-11 09:08:13.399118: I tensorflow/core/platform/cpu_feature_guard.cc:182] This TensorFlow binary is optimized to use available CPU instructions in performance-critical operations.\n",
      "To enable the following instructions: AVX2 FMA, in other operations, rebuild TensorFlow with the appropriate compiler flags.\n",
      "2024-02-11 09:08:17.224530: W tensorflow/compiler/tf2tensorrt/utils/py_utils.cc:38] TF-TRT Warning: Could not find TensorRT\n"
     ]
    }
   ],
   "source": [
    "import pandas as pd \n",
    "import numpy as np \n",
    "import tensorflow as tf \n",
    "from sklearn.model_selection import train_test_split\n",
    "from sklearn.metrics import mean_squared_error\n",
    "import matplotlib.pyplot as plt"
   ]
  },
  {
   "cell_type": "code",
   "execution_count": 2,
   "metadata": {},
   "outputs": [
    {
     "name": "stdout",
     "output_type": "stream",
     "text": [
      "Actual columns in DataFrame: Index(['Timestamp', 'Azimuth', 'Altitude', 'Latitude', 'Longitude'], dtype='object')\n"
     ]
    }
   ],
   "source": [
    "def load_dataset(csv_path):\n",
    "    df = pd.read_csv(csv_path, sep=';')\n",
    "    print(\"Actual columns in DataFrame:\", df.columns)\n",
    "    required_columns = ['Azimuth', 'Altitude', 'Timestamp']\n",
    "\n",
    "    if not all(col in df.columns for col in required_columns):\n",
    "        raise ValueError(\"Required columns are not present in the DataFrame.\")\n",
    "    \n",
    "    X = df[['Azimuth', 'Altitude']].values\n",
    "    y_azimuth = df['Azimuth'].values\n",
    "    y_altitude = df['Altitude'].values\n",
    "    timestamps = df['Timestamp'].values\n",
    "    return X, y_azimuth, y_altitude, timestamps, df\n",
    "\n",
    "csv_path = '/root/solar_tracking_1/Training/cleaned_data/solar_data_january_1min_2023_timestamp.csv'\n",
    "X, y_azimuth, y_altitude, timestamps, df = load_dataset(csv_path)\n"
   ]
  },
  {
   "cell_type": "code",
   "execution_count": 3,
   "metadata": {},
   "outputs": [],
   "source": [
    "# Pisahkan data azimuth dan altitude\n",
    "X_azimuth = X\n",
    "X_altitude = X\n",
    "y_azimuth_train, y_azimuth_test, X_azimuth_train, X_azimuth_test, timestamps_azimuth_train, timestamps_azimuth_test = train_test_split(y_azimuth, X_azimuth, timestamps, test_size=0.2, random_state=42)\n",
    "y_altitude_train, y_altitude_test, X_altitude_train, X_altitude_test, timestamps_altitude_train, timestamps_altitude_test = train_test_split(y_altitude, X_altitude, timestamps, test_size=0.2, random_state=42)\n",
    "\n",
    "# Normalisasi data\n",
    "X_azimuth_train_normalized = (X_azimuth_train - X_azimuth_train.mean()) / X_azimuth_train.std()\n",
    "X_azimuth_test_normalized = (X_azimuth_test - X_azimuth_train.mean()) / X_azimuth_train.std()\n",
    "\n",
    "X_altitude_train_normalized = (X_altitude_train - X_altitude_train.mean()) / X_altitude_train.std()\n",
    "X_altitude_test_normalized = (X_altitude_test - X_altitude_train.mean()) / X_altitude_train.std()"
   ]
  },
  {
   "cell_type": "code",
   "execution_count": 4,
   "metadata": {},
   "outputs": [
    {
     "name": "stderr",
     "output_type": "stream",
     "text": [
      "2024-02-11 09:08:27.666651: I external/local_xla/xla/stream_executor/cuda/cuda_executor.cc:887] could not open file to read NUMA node: /sys/bus/pci/devices/0000:01:00.0/numa_node\n",
      "Your kernel may have been built without NUMA support.\n",
      "2024-02-11 09:08:30.288899: I external/local_xla/xla/stream_executor/cuda/cuda_executor.cc:887] could not open file to read NUMA node: /sys/bus/pci/devices/0000:01:00.0/numa_node\n",
      "Your kernel may have been built without NUMA support.\n",
      "2024-02-11 09:08:30.288967: I external/local_xla/xla/stream_executor/cuda/cuda_executor.cc:887] could not open file to read NUMA node: /sys/bus/pci/devices/0000:01:00.0/numa_node\n",
      "Your kernel may have been built without NUMA support.\n",
      "2024-02-11 09:08:30.292825: I external/local_xla/xla/stream_executor/cuda/cuda_executor.cc:887] could not open file to read NUMA node: /sys/bus/pci/devices/0000:01:00.0/numa_node\n",
      "Your kernel may have been built without NUMA support.\n",
      "2024-02-11 09:08:30.292937: I external/local_xla/xla/stream_executor/cuda/cuda_executor.cc:887] could not open file to read NUMA node: /sys/bus/pci/devices/0000:01:00.0/numa_node\n",
      "Your kernel may have been built without NUMA support.\n",
      "2024-02-11 09:08:30.292978: I external/local_xla/xla/stream_executor/cuda/cuda_executor.cc:887] could not open file to read NUMA node: /sys/bus/pci/devices/0000:01:00.0/numa_node\n",
      "Your kernel may have been built without NUMA support.\n",
      "2024-02-11 09:08:30.548019: I external/local_xla/xla/stream_executor/cuda/cuda_executor.cc:887] could not open file to read NUMA node: /sys/bus/pci/devices/0000:01:00.0/numa_node\n",
      "Your kernel may have been built without NUMA support.\n",
      "2024-02-11 09:08:30.548107: I external/local_xla/xla/stream_executor/cuda/cuda_executor.cc:887] could not open file to read NUMA node: /sys/bus/pci/devices/0000:01:00.0/numa_node\n",
      "Your kernel may have been built without NUMA support.\n",
      "2024-02-11 09:08:30.548133: I tensorflow/core/common_runtime/gpu/gpu_device.cc:2022] Could not identify NUMA node of platform GPU id 0, defaulting to 0.  Your kernel may not have been built with NUMA support.\n",
      "2024-02-11 09:08:30.548187: I external/local_xla/xla/stream_executor/cuda/cuda_executor.cc:887] could not open file to read NUMA node: /sys/bus/pci/devices/0000:01:00.0/numa_node\n",
      "Your kernel may have been built without NUMA support.\n",
      "2024-02-11 09:08:30.548218: I tensorflow/core/common_runtime/gpu/gpu_device.cc:1929] Created device /job:localhost/replica:0/task:0/device:GPU:0 with 4080 MB memory:  -> device: 0, name: NVIDIA GeForce GTX 1660 Ti with Max-Q Design, pci bus id: 0000:01:00.0, compute capability: 7.5\n"
     ]
    },
    {
     "name": "stdout",
     "output_type": "stream",
     "text": [
      "Epoch 1/50\n"
     ]
    },
    {
     "name": "stderr",
     "output_type": "stream",
     "text": [
      "2024-02-11 09:08:35.818386: I external/local_tsl/tsl/platform/default/subprocess.cc:304] Start cannot spawn child process: No such file or directory\n",
      "2024-02-11 09:08:37.622286: I external/local_xla/xla/service/service.cc:168] XLA service 0x7fdcbe7903f0 initialized for platform CUDA (this does not guarantee that XLA will be used). Devices:\n",
      "2024-02-11 09:08:37.622442: I external/local_xla/xla/service/service.cc:176]   StreamExecutor device (0): NVIDIA GeForce GTX 1660 Ti with Max-Q Design, Compute Capability 7.5\n",
      "2024-02-11 09:08:37.833504: I tensorflow/compiler/mlir/tensorflow/utils/dump_mlir_util.cc:269] disabling MLIR crash reproducer, set env var `MLIR_CRASH_REPRODUCER_DIRECTORY` to enable.\n",
      "2024-02-11 09:08:38.197769: I external/local_xla/xla/stream_executor/cuda/cuda_dnn.cc:454] Loaded cuDNN version 8904\n",
      "WARNING: All log messages before absl::InitializeLog() is called are written to STDERR\n",
      "I0000 00:00:1707617318.469822    1552 device_compiler.h:186] Compiled cluster using XLA!  This line is logged at most once for the lifetime of the process.\n"
     ]
    },
    {
     "name": "stdout",
     "output_type": "stream",
     "text": [
      "864/864 [==============================] - 12s 5ms/step - loss: 1531.6278 - val_loss: 0.0018\n",
      "Epoch 2/50\n",
      "864/864 [==============================] - 4s 5ms/step - loss: 8.9913e-04 - val_loss: 2.7939e-04\n",
      "Epoch 3/50\n",
      "864/864 [==============================] - 4s 5ms/step - loss: 1.6335e-04 - val_loss: 6.5533e-05\n",
      "Epoch 4/50\n",
      "864/864 [==============================] - 4s 5ms/step - loss: 4.1438e-05 - val_loss: 1.8385e-05\n",
      "Epoch 5/50\n",
      "864/864 [==============================] - 5s 5ms/step - loss: 1.2835e-05 - val_loss: 6.3744e-06\n",
      "Epoch 6/50\n",
      "864/864 [==============================] - 5s 6ms/step - loss: 4.3205e-06 - val_loss: 2.5278e-06\n",
      "Epoch 7/50\n",
      "864/864 [==============================] - 5s 6ms/step - loss: 1.5979e-06 - val_loss: 1.6519e-06\n",
      "Epoch 8/50\n",
      "864/864 [==============================] - 5s 6ms/step - loss: 7.9962e-07 - val_loss: 4.5394e-07\n",
      "Epoch 9/50\n",
      "864/864 [==============================] - 5s 5ms/step - loss: 1.7211e-05 - val_loss: 2.6668e-04\n",
      "Epoch 10/50\n",
      "864/864 [==============================] - 5s 6ms/step - loss: 0.0405 - val_loss: 0.0392\n",
      "Epoch 11/50\n",
      "864/864 [==============================] - 5s 6ms/step - loss: 0.0956 - val_loss: 5.2015e-04\n",
      "Epoch 12/50\n",
      "864/864 [==============================] - 5s 6ms/step - loss: 0.0478 - val_loss: 4.8109e-04\n",
      "Epoch 13/50\n",
      "864/864 [==============================] - 5s 6ms/step - loss: 0.0273 - val_loss: 2.5085e-06\n",
      "Epoch 14/50\n",
      "864/864 [==============================] - 5s 5ms/step - loss: 0.0936 - val_loss: 2.8566e-06\n",
      "Epoch 15/50\n",
      "864/864 [==============================] - 5s 5ms/step - loss: 0.0102 - val_loss: 0.1821\n",
      "Epoch 16/50\n",
      "864/864 [==============================] - 5s 6ms/step - loss: 0.0611 - val_loss: 9.7454e-06\n",
      "Epoch 17/50\n",
      "864/864 [==============================] - 5s 5ms/step - loss: 0.0399 - val_loss: 1.5852e-06\n",
      "Epoch 18/50\n",
      "864/864 [==============================] - 5s 6ms/step - loss: 0.0496 - val_loss: 0.0237\n",
      "Epoch 19/50\n",
      "864/864 [==============================] - 5s 5ms/step - loss: 0.0640 - val_loss: 1.3329e-06\n",
      "Epoch 20/50\n",
      "864/864 [==============================] - 5s 6ms/step - loss: 0.0969 - val_loss: 5.9751e-07\n",
      "Epoch 21/50\n",
      "864/864 [==============================] - 5s 6ms/step - loss: 0.0508 - val_loss: 4.9592e-06\n",
      "Epoch 22/50\n",
      "864/864 [==============================] - 5s 5ms/step - loss: 0.0135 - val_loss: 0.0589\n",
      "Epoch 23/50\n",
      "864/864 [==============================] - 5s 6ms/step - loss: 0.1365 - val_loss: 1.4426e-06\n",
      "Epoch 24/50\n",
      "864/864 [==============================] - 5s 6ms/step - loss: 6.3554e-07 - val_loss: 1.7036e-07\n",
      "Epoch 25/50\n",
      "864/864 [==============================] - 5s 5ms/step - loss: 0.0860 - val_loss: 6.3249e-07\n",
      "Epoch 26/50\n",
      "864/864 [==============================] - 5s 6ms/step - loss: 0.0171 - val_loss: 0.0094\n",
      "Epoch 27/50\n",
      "864/864 [==============================] - 5s 5ms/step - loss: 0.1638 - val_loss: 7.1610e-08\n",
      "Epoch 28/50\n",
      "864/864 [==============================] - 5s 6ms/step - loss: 1.0081e-05 - val_loss: 1.7685e-04\n",
      "Epoch 29/50\n",
      "864/864 [==============================] - 5s 6ms/step - loss: 0.0648 - val_loss: 1.8524e-09\n",
      "Epoch 30/50\n",
      "864/864 [==============================] - 5s 6ms/step - loss: 0.0602 - val_loss: 1.1851e-07\n",
      "Epoch 31/50\n",
      "864/864 [==============================] - 5s 6ms/step - loss: 0.0444 - val_loss: 1.4901e-05\n",
      "Epoch 32/50\n",
      "864/864 [==============================] - 4s 5ms/step - loss: 0.0415 - val_loss: 0.0088\n",
      "Epoch 33/50\n",
      "864/864 [==============================] - 5s 6ms/step - loss: 0.0717 - val_loss: 9.0955e-05\n",
      "Epoch 34/50\n",
      "864/864 [==============================] - 5s 6ms/step - loss: 0.0269 - val_loss: 1.1991e-05\n",
      "Epoch 35/50\n",
      "864/864 [==============================] - 5s 6ms/step - loss: 0.0456 - val_loss: 2.5230e-04\n",
      "Epoch 36/50\n",
      "864/864 [==============================] - 5s 6ms/step - loss: 0.0773 - val_loss: 1.0786\n",
      "Epoch 37/50\n",
      "864/864 [==============================] - 5s 6ms/step - loss: 0.0145 - val_loss: 4.3420e-04\n",
      "Epoch 38/50\n",
      "864/864 [==============================] - 5s 6ms/step - loss: 0.1254 - val_loss: 6.1508e-06\n",
      "Epoch 39/50\n",
      "864/864 [==============================] - 5s 6ms/step - loss: 0.0211 - val_loss: 9.1518e-06\n",
      "Epoch 40/50\n",
      "864/864 [==============================] - 5s 6ms/step - loss: 0.0651 - val_loss: 0.0027\n",
      "Epoch 41/50\n",
      "864/864 [==============================] - 5s 6ms/step - loss: 0.0821 - val_loss: 0.2419\n",
      "Epoch 42/50\n",
      "864/864 [==============================] - 5s 6ms/step - loss: 0.0097 - val_loss: 2.8675e-05\n",
      "Epoch 43/50\n",
      "864/864 [==============================] - 5s 6ms/step - loss: 0.0452 - val_loss: 0.2302\n",
      "Epoch 44/50\n",
      "864/864 [==============================] - 5s 5ms/step - loss: 0.1138 - val_loss: 1.4087e-08\n",
      "Epoch 45/50\n",
      "864/864 [==============================] - 5s 5ms/step - loss: 0.0134 - val_loss: 0.0184\n",
      "Epoch 46/50\n",
      "864/864 [==============================] - 5s 6ms/step - loss: 0.0603 - val_loss: 4.0210e-08\n",
      "Epoch 47/50\n",
      "864/864 [==============================] - 5s 6ms/step - loss: 0.0836 - val_loss: 2.8326e-08\n",
      "Epoch 48/50\n",
      "864/864 [==============================] - 5s 5ms/step - loss: 0.0099 - val_loss: 1.8902e-04\n",
      "Epoch 49/50\n",
      "864/864 [==============================] - 5s 6ms/step - loss: 0.0755 - val_loss: 2.5677e-07\n",
      "Epoch 50/50\n",
      "864/864 [==============================] - 5s 6ms/step - loss: 0.0454 - val_loss: 7.1005e-06\n"
     ]
    },
    {
     "data": {
      "text/plain": [
       "<keras.src.callbacks.History at 0x7fddb78d1ae0>"
      ]
     },
     "execution_count": 4,
     "metadata": {},
     "output_type": "execute_result"
    }
   ],
   "source": [
    "# Buat model untuk azimuth\n",
    "model_azimuth = tf.keras.Sequential([\n",
    "    tf.keras.layers.Dense(1024, activation='relu', input_shape=(2,)),\n",
    "    tf.keras.layers.Dense(512, activation='relu'),\n",
    "    tf.keras.layers.Dense(1)\n",
    "])\n",
    "\n",
    "model_azimuth.compile(optimizer='adam', loss='mean_squared_error')\n",
    "model_azimuth.fit(X_azimuth_train_normalized, y_azimuth_train, epochs=50, batch_size=32, validation_split=0.2)"
   ]
  },
  {
   "cell_type": "code",
   "execution_count": 5,
   "metadata": {},
   "outputs": [
    {
     "name": "stdout",
     "output_type": "stream",
     "text": [
      "Epoch 1/50\n",
      "864/864 [==============================] - 6s 6ms/step - loss: 102.0811 - val_loss: 0.0023\n",
      "Epoch 2/50\n",
      "864/864 [==============================] - 5s 5ms/step - loss: 8.9585e-04 - val_loss: 2.9754e-04\n",
      "Epoch 3/50\n",
      "864/864 [==============================] - 5s 5ms/step - loss: 0.0191 - val_loss: 9.8421e-05\n",
      "Epoch 4/50\n",
      "864/864 [==============================] - 5s 6ms/step - loss: 0.0677 - val_loss: 1.9294e-04\n",
      "Epoch 5/50\n",
      "864/864 [==============================] - 5s 5ms/step - loss: 0.0600 - val_loss: 0.0102\n",
      "Epoch 6/50\n",
      "864/864 [==============================] - 5s 6ms/step - loss: 0.0712 - val_loss: 0.0059\n",
      "Epoch 7/50\n",
      "864/864 [==============================] - 5s 5ms/step - loss: 0.0689 - val_loss: 0.1202\n",
      "Epoch 8/50\n",
      "864/864 [==============================] - 5s 5ms/step - loss: 0.0323 - val_loss: 0.0075\n",
      "Epoch 9/50\n",
      "864/864 [==============================] - 5s 5ms/step - loss: 0.0655 - val_loss: 0.0017\n",
      "Epoch 10/50\n",
      "864/864 [==============================] - 5s 6ms/step - loss: 0.0827 - val_loss: 1.0649e-04\n",
      "Epoch 11/50\n",
      "864/864 [==============================] - 5s 6ms/step - loss: 0.0787 - val_loss: 1.2981e-04\n",
      "Epoch 12/50\n",
      "864/864 [==============================] - 5s 5ms/step - loss: 0.0298 - val_loss: 0.0027\n",
      "Epoch 13/50\n",
      "864/864 [==============================] - 5s 6ms/step - loss: 0.0911 - val_loss: 2.9010e-04\n",
      "Epoch 14/50\n",
      "864/864 [==============================] - 5s 6ms/step - loss: 0.0423 - val_loss: 2.2232e-04\n",
      "Epoch 15/50\n",
      "864/864 [==============================] - 5s 5ms/step - loss: 0.0429 - val_loss: 0.0059\n",
      "Epoch 16/50\n",
      "864/864 [==============================] - 5s 6ms/step - loss: 0.0548 - val_loss: 6.3225e-04\n",
      "Epoch 17/50\n",
      "864/864 [==============================] - 5s 6ms/step - loss: 0.0504 - val_loss: 2.6035e-04\n",
      "Epoch 18/50\n",
      "864/864 [==============================] - 5s 6ms/step - loss: 0.0475 - val_loss: 0.2206\n",
      "Epoch 19/50\n",
      "864/864 [==============================] - 4s 5ms/step - loss: 0.0905 - val_loss: 0.0031\n",
      "Epoch 20/50\n",
      "864/864 [==============================] - 4s 5ms/step - loss: 0.0351 - val_loss: 0.0028\n",
      "Epoch 21/50\n",
      "864/864 [==============================] - 4s 5ms/step - loss: 0.0238 - val_loss: 0.0016\n",
      "Epoch 22/50\n",
      "864/864 [==============================] - 5s 5ms/step - loss: 0.0867 - val_loss: 1.8312e-04\n",
      "Epoch 23/50\n",
      "864/864 [==============================] - 4s 5ms/step - loss: 0.0732 - val_loss: 0.0051\n",
      "Epoch 24/50\n",
      "864/864 [==============================] - 4s 5ms/step - loss: 6.6106e-04 - val_loss: 0.0011\n",
      "Epoch 25/50\n",
      "864/864 [==============================] - 4s 5ms/step - loss: 0.0716 - val_loss: 2.2706e-04\n",
      "Epoch 26/50\n",
      "864/864 [==============================] - 4s 5ms/step - loss: 0.0443 - val_loss: 0.0307\n",
      "Epoch 27/50\n",
      "864/864 [==============================] - 4s 5ms/step - loss: 0.0426 - val_loss: 3.7929e-04\n",
      "Epoch 28/50\n",
      "864/864 [==============================] - 4s 5ms/step - loss: 0.0334 - val_loss: 0.0387\n",
      "Epoch 29/50\n",
      "864/864 [==============================] - 4s 5ms/step - loss: 0.0394 - val_loss: 0.0088\n",
      "Epoch 30/50\n",
      "864/864 [==============================] - 4s 5ms/step - loss: 0.0617 - val_loss: 0.0457\n",
      "Epoch 31/50\n",
      "864/864 [==============================] - 3s 4ms/step - loss: 0.0333 - val_loss: 0.0028\n",
      "Epoch 32/50\n",
      "864/864 [==============================] - 3s 4ms/step - loss: 0.0504 - val_loss: 2.2679e-04\n",
      "Epoch 33/50\n",
      "864/864 [==============================] - 3s 4ms/step - loss: 0.0320 - val_loss: 0.0108\n",
      "Epoch 34/50\n",
      "864/864 [==============================] - 4s 4ms/step - loss: 0.0374 - val_loss: 2.0991e-04\n",
      "Epoch 35/50\n",
      "864/864 [==============================] - 4s 4ms/step - loss: 0.0702 - val_loss: 0.1744\n",
      "Epoch 36/50\n",
      "864/864 [==============================] - 3s 4ms/step - loss: 0.0206 - val_loss: 3.5359e-04\n",
      "Epoch 37/50\n",
      "864/864 [==============================] - 4s 4ms/step - loss: 0.0270 - val_loss: 0.0028\n",
      "Epoch 38/50\n",
      "864/864 [==============================] - 4s 5ms/step - loss: 0.0348 - val_loss: 0.0046\n",
      "Epoch 39/50\n",
      "864/864 [==============================] - 4s 5ms/step - loss: 0.0343 - val_loss: 4.3149e-04\n",
      "Epoch 40/50\n",
      "864/864 [==============================] - 4s 4ms/step - loss: 0.0437 - val_loss: 0.0419\n",
      "Epoch 41/50\n",
      "864/864 [==============================] - 4s 5ms/step - loss: 0.0473 - val_loss: 7.6005e-04\n",
      "Epoch 42/50\n",
      "864/864 [==============================] - 4s 5ms/step - loss: 0.0371 - val_loss: 0.0027\n",
      "Epoch 43/50\n",
      "864/864 [==============================] - 4s 5ms/step - loss: 0.0272 - val_loss: 3.3914e-04\n",
      "Epoch 44/50\n",
      "864/864 [==============================] - 4s 5ms/step - loss: 0.0838 - val_loss: 2.8894e-04\n",
      "Epoch 45/50\n",
      "864/864 [==============================] - 4s 5ms/step - loss: 0.0035 - val_loss: 0.0168\n",
      "Epoch 46/50\n",
      "864/864 [==============================] - 4s 5ms/step - loss: 0.0354 - val_loss: 0.0083\n",
      "Epoch 47/50\n",
      "864/864 [==============================] - 4s 5ms/step - loss: 0.0332 - val_loss: 0.0147\n",
      "Epoch 48/50\n",
      "864/864 [==============================] - 4s 5ms/step - loss: 0.0470 - val_loss: 9.6586e-04\n",
      "Epoch 49/50\n",
      "864/864 [==============================] - 4s 5ms/step - loss: 0.0314 - val_loss: 6.6396e-04\n",
      "Epoch 50/50\n",
      "864/864 [==============================] - 4s 5ms/step - loss: 0.0253 - val_loss: 0.0065\n"
     ]
    },
    {
     "data": {
      "text/plain": [
       "<keras.src.callbacks.History at 0x7fddb5fc8fa0>"
      ]
     },
     "execution_count": 5,
     "metadata": {},
     "output_type": "execute_result"
    }
   ],
   "source": [
    "# Buat model untuk altitude\n",
    "model_altitude = tf.keras.Sequential([\n",
    "    tf.keras.layers.Dense(1024, activation='relu', input_shape=(2,)),\n",
    "    tf.keras.layers.Dense(512, activation='relu'),\n",
    "    tf.keras.layers.Dense(1)\n",
    "])\n",
    "\n",
    "model_altitude.compile(optimizer='adam', loss='mean_squared_error')\n",
    "model_altitude.fit(X_altitude_train_normalized, y_altitude_train, epochs=50, batch_size=32, validation_split=0.2)"
   ]
  },
  {
   "cell_type": "code",
   "execution_count": 6,
   "metadata": {},
   "outputs": [
    {
     "name": "stdout",
     "output_type": "stream",
     "text": [
      "271/271 [==============================] - 1s 2ms/step\n",
      "Mean Squared Error for Azimuth: 7.057901564257601e-06\n",
      "271/271 [==============================] - 1s 2ms/step\n",
      "Mean Squared Error for Altitude: 0.006387638634373307\n"
     ]
    }
   ],
   "source": [
    "# Evaluasi model azimuth pada data test\n",
    "predictions_azimuth = model_azimuth.predict(X_azimuth_test_normalized)\n",
    "mse_azimuth = mean_squared_error(y_azimuth_test, predictions_azimuth)\n",
    "print(f'Mean Squared Error for Azimuth: {mse_azimuth}')\n",
    "\n",
    "# Evaluasi model altitude pada data test\n",
    "predictions_altitude = model_altitude.predict(X_altitude_test_normalized)\n",
    "mse_altitude = mean_squared_error(y_altitude_test, predictions_altitude)\n",
    "print(f'Mean Squared Error for Altitude: {mse_altitude}')"
   ]
  },
  {
   "cell_type": "code",
   "execution_count": 7,
   "metadata": {},
   "outputs": [
    {
     "data": {
      "image/png": "[encoded data removed]",
      "text/plain": [
       "<Figure size 1200x600 with 2 Axes>"
      ]
     },
     "metadata": {},
     "output_type": "display_data"
    }
   ],
   "source": [
    "\n",
    "# Plot hasil prediksi dan data aktual untuk 10 data azimuth\n",
    "plt.figure(figsize=(12, 6))\n",
    "\n",
    "# Ambil hanya 10 data\n",
    "num_data_to_plot = 5\n",
    "X_azimuth_test_subset = X_azimuth_test[:num_data_to_plot]\n",
    "y_azimuth_test_subset = y_azimuth_test[:num_data_to_plot]\n",
    "\n",
    "# Plot azimuth aktual\n",
    "plt.subplot(1, 2, 1)\n",
    "plt.scatter(timestamps_azimuth_test[:num_data_to_plot], y_azimuth_test_subset, label='Actual Azimuth', alpha=0.5)\n",
    "plt.scatter(timestamps_azimuth_test[:num_data_to_plot], predictions_azimuth[:num_data_to_plot], label='Predicted Azimuth', color='red', alpha=0.5)\n",
    "plt.title('Actual vs Predicted Azimuth (Subset of 15 data)')\n",
    "plt.xlabel('Timestamp')\n",
    "plt.ylabel('Azimuth')\n",
    "plt.xticks(rotation=45)\n",
    "plt.legend()\n",
    "\n",
    "# Plot altitude aktual\n",
    "plt.subplot(1, 2, 2)\n",
    "plt.scatter(timestamps_altitude_test[:num_data_to_plot], y_altitude_test[:num_data_to_plot], label='Actual Altitude', alpha=0.5)\n",
    "plt.scatter(timestamps_altitude_test[:num_data_to_plot], predictions_altitude[:num_data_to_plot], label='Predicted Altitude', color='blue', alpha=0.5)\n",
    "plt.title('Actual vs Predicted Altitude (Subset of 15 data)')\n",
    "plt.xlabel('Timestamp')\n",
    "plt.ylabel('Altitude')\n",
    "plt.xticks(rotation=45)\n",
    "plt.legend()\n",
    "\n",
    "plt.tight_layout()\n",
    "plt.show()"
   ]
  }
 ],
 "metadata": {
  "kernelspec": {
   "display_name": "Python 3",
   "language": "python",
   "name": "python3"
  },
  "language_info": {
   "codemirror_mode": {
    "name": "ipython",
    "version": 3
   },
   "file_extension": ".py",
   "mimetype": "text/x-python",
   "name": "python",
   "nbconvert_exporter": "python",
   "pygments_lexer": "ipython3",
   "version": "3.10.12"
  }
 },
 "nbformat": 4,
 "nbformat_minor": 2
}
