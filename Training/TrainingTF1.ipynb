{
 "cells": [
  {
   "cell_type": "code",
   "execution_count": 98,
   "metadata": {},
   "outputs": [],
   "source": [
    "import pandas as pd \n",
    "import numpy as np \n",
    "import tensorflow as tf \n",
    "from sklearn.model_selection import train_test_split\n",
    "from sklearn.metrics import mean_squared_error\n",
    "import matplotlib.pyplot as plt"
   ]
  },
  {
   "cell_type": "code",
   "execution_count": 99,
   "metadata": {},
   "outputs": [],
   "source": [
    "def load_dataset(csv_path):\n",
    "    df=pd.read_csv(csv_path, sep= ';')\n",
    "    print(\"Actual columns in DataFrame:\", df.columns)\n",
    "    required_columns = ['Azimuth', 'Altitude', 'Timestamp']\n",
    "\n",
    "    if not all(col in df.columns for col in required_columns):\n",
    "        raise ValueError(\"Required columns are not present in the DataFrame.\")\n",
    "    \n",
    "    X = df[['Azimuth', 'Altitude']].values\n",
    "    y = df['Timestamp'].values\n",
    "    return X, y, df"
   ]
  },
  {
   "cell_type": "code",
   "execution_count": 100,
   "metadata": {},
   "outputs": [],
   "source": [
    "csv_path = '/root/solar_tracking_1/Training/cleaned_data/solar_data_january_1min_2023_timestamp.csv'"
   ]
  },
  {
   "cell_type": "code",
   "execution_count": 101,
   "metadata": {},
   "outputs": [
    {
     "name": "stdout",
     "output_type": "stream",
     "text": [
      "Actual columns in DataFrame: Index(['Timestamp', 'Azimuth', 'Altitude', 'Latitude', 'Longitude'], dtype='object')\n"
     ]
    }
   ],
   "source": [
    "X, y, df = load_dataset(csv_path)"
   ]
  },
  {
   "cell_type": "code",
   "execution_count": 102,
   "metadata": {},
   "outputs": [],
   "source": [
    "X_train, X_test, y_train, y_test = train_test_split(X, y, test_size=0.2, random_state=42)"
   ]
  },
  {
   "cell_type": "code",
   "execution_count": 103,
   "metadata": {},
   "outputs": [],
   "source": [
    "X_train_normalized = (X_train - X_train.mean()) / X_train.std()\n",
    "X_test_normalized = (X_test - X_train.mean()) / X_train.std()"
   ]
  },
  {
   "cell_type": "code",
   "execution_count": 104,
   "metadata": {},
   "outputs": [],
   "source": [
    "model = tf.keras.Sequential([\n",
    "    tf.keras.layers.Dense(1024, activation='relu', input_shape=(2,)),\n",
    "    tf.keras.layers.Dense(512, activation='relu'),\n",
    "    tf.keras.layers.Dense(1)\n",
    "])"
   ]
  },
  {
   "cell_type": "code",
   "execution_count": 105,
   "metadata": {},
   "outputs": [],
   "source": [
    "model.compile(optimizer='adam', loss='mean_squared_error')"
   ]
  },
  {
   "cell_type": "code",
   "execution_count": 106,
   "metadata": {},
   "outputs": [
    {
     "name": "stdout",
     "output_type": "stream",
     "text": [
      "Epoch 1/50\n",
      "864/864 [==============================] - 8s 7ms/step - loss: 2407234199091150848.0000 - val_loss: 1112170373866061824.0000\n",
      "Epoch 2/50\n",
      "864/864 [==============================] - 6s 7ms/step - loss: 314440809212542976.0000 - val_loss: 162299804729212928.0000\n",
      "Epoch 3/50\n",
      "864/864 [==============================] - 6s 7ms/step - loss: 146686533456363520.0000 - val_loss: 126940369773395968.0000\n",
      "Epoch 4/50\n",
      "864/864 [==============================] - 6s 7ms/step - loss: 109357598297292800.0000 - val_loss: 87346775668555776.0000\n",
      "Epoch 5/50\n",
      "864/864 [==============================] - 6s 7ms/step - loss: 69692514461810688.0000 - val_loss: 47318152916238336.0000\n",
      "Epoch 6/50\n",
      "864/864 [==============================] - 6s 7ms/step - loss: 32984743242891264.0000 - val_loss: 15991267049603072.0000\n",
      "Epoch 7/50\n",
      "864/864 [==============================] - 6s 7ms/step - loss: 10696181185249280.0000 - val_loss: 2134238505730048.0000\n",
      "Epoch 8/50\n",
      "864/864 [==============================] - 6s 7ms/step - loss: 3825858888335360.0000 - val_loss: 85643954749440.0000\n",
      "Epoch 9/50\n",
      "864/864 [==============================] - 6s 7ms/step - loss: 3228995873144832.0000 - val_loss: 17408383254528.0000\n",
      "Epoch 10/50\n",
      "864/864 [==============================] - 6s 7ms/step - loss: 3184078031421440.0000 - val_loss: 30097572626432.0000\n",
      "Epoch 11/50\n",
      "864/864 [==============================] - 6s 7ms/step - loss: 3173824333873152.0000 - val_loss: 11101495361536.0000\n",
      "Epoch 12/50\n",
      "864/864 [==============================] - 5s 6ms/step - loss: 3131697684021248.0000 - val_loss: 2846776885248.0000\n",
      "Epoch 13/50\n",
      "864/864 [==============================] - 6s 7ms/step - loss: 3166627310862336.0000 - val_loss: 38481128587264.0000\n",
      "Epoch 14/50\n",
      "864/864 [==============================] - 6s 6ms/step - loss: 3161616694640640.0000 - val_loss: 3081641394176.0000\n",
      "Epoch 15/50\n",
      "864/864 [==============================] - 6s 7ms/step - loss: 3179039766347776.0000 - val_loss: 36778186637312.0000\n",
      "Epoch 16/50\n",
      "864/864 [==============================] - 5s 6ms/step - loss: 3161261286096896.0000 - val_loss: 57508211195904.0000\n",
      "Epoch 17/50\n",
      "864/864 [==============================] - 6s 6ms/step - loss: 3180287454347264.0000 - val_loss: 2998537027584.0000\n",
      "Epoch 18/50\n",
      "864/864 [==============================] - 6s 7ms/step - loss: 3179626297819136.0000 - val_loss: 11530993139712.0000\n",
      "Epoch 19/50\n",
      "864/864 [==============================] - 6s 6ms/step - loss: 3212149669232640.0000 - val_loss: 1279532335104.0000\n",
      "Epoch 20/50\n",
      "864/864 [==============================] - 5s 6ms/step - loss: 3169240798461952.0000 - val_loss: 32962462613504.0000\n",
      "Epoch 21/50\n",
      "864/864 [==============================] - 5s 6ms/step - loss: 3191217340809216.0000 - val_loss: 924661121024.0000\n",
      "Epoch 22/50\n",
      "864/864 [==============================] - 5s 5ms/step - loss: 3190460084387840.0000 - val_loss: 17030928400384.0000\n",
      "Epoch 23/50\n",
      "864/864 [==============================] - 6s 7ms/step - loss: 3208283930230784.0000 - val_loss: 26143415599104.0000\n",
      "Epoch 24/50\n",
      "864/864 [==============================] - 5s 6ms/step - loss: 3197266802245632.0000 - val_loss: 69676080037888.0000\n",
      "Epoch 25/50\n",
      "864/864 [==============================] - 5s 6ms/step - loss: 3188251129020416.0000 - val_loss: 6697169453056.0000\n",
      "Epoch 26/50\n",
      "864/864 [==============================] - 5s 5ms/step - loss: 3218649565364224.0000 - val_loss: 12785199087616.0000\n",
      "Epoch 27/50\n",
      "864/864 [==============================] - 5s 6ms/step - loss: 3170378696359936.0000 - val_loss: 9117913579520.0000\n",
      "Epoch 28/50\n",
      "864/864 [==============================] - 5s 6ms/step - loss: 3169618755584000.0000 - val_loss: 45921110851584.0000\n",
      "Epoch 29/50\n",
      "864/864 [==============================] - 5s 6ms/step - loss: 3185057015529472.0000 - val_loss: 653379895296.0000\n",
      "Epoch 30/50\n",
      "864/864 [==============================] - 5s 6ms/step - loss: 3224761035390976.0000 - val_loss: 17163176902656.0000\n",
      "Epoch 31/50\n",
      "864/864 [==============================] - 5s 6ms/step - loss: 3230849419968512.0000 - val_loss: 73911211393024.0000\n",
      "Epoch 32/50\n",
      "864/864 [==============================] - 5s 6ms/step - loss: 3196670338662400.0000 - val_loss: 7050320936960.0000\n",
      "Epoch 33/50\n",
      "864/864 [==============================] - 6s 7ms/step - loss: 3171774292295680.0000 - val_loss: 3240025391104.0000\n",
      "Epoch 34/50\n",
      "864/864 [==============================] - 6s 6ms/step - loss: 3155570991300608.0000 - val_loss: 812486492160.0000\n",
      "Epoch 35/50\n",
      "864/864 [==============================] - 5s 6ms/step - loss: 3229251960569856.0000 - val_loss: 3845830475776.0000\n",
      "Epoch 36/50\n",
      "864/864 [==============================] - 5s 6ms/step - loss: 3180128808992768.0000 - val_loss: 4805724995584.0000\n",
      "Epoch 37/50\n",
      "864/864 [==============================] - 6s 7ms/step - loss: 3176524794560512.0000 - val_loss: 25010993364992.0000\n",
      "Epoch 38/50\n",
      "864/864 [==============================] - 6s 7ms/step - loss: 3166662744342528.0000 - val_loss: 30820647567360.0000\n",
      "Epoch 39/50\n",
      "864/864 [==============================] - 5s 6ms/step - loss: 3124568306745344.0000 - val_loss: 57186969452544.0000\n",
      "Epoch 40/50\n",
      "864/864 [==============================] - 6s 6ms/step - loss: 3202081729019904.0000 - val_loss: 3600088301568.0000\n",
      "Epoch 41/50\n",
      "864/864 [==============================] - 5s 6ms/step - loss: 3178414848606208.0000 - val_loss: 2443125719040.0000\n",
      "Epoch 42/50\n",
      "864/864 [==============================] - 5s 6ms/step - loss: 3190975212027904.0000 - val_loss: 3205621612544.0000\n",
      "Epoch 43/50\n",
      "864/864 [==============================] - 5s 6ms/step - loss: 3214525859889152.0000 - val_loss: 18249672556544.0000\n",
      "Epoch 44/50\n",
      "864/864 [==============================] - 6s 6ms/step - loss: 3203151175876608.0000 - val_loss: 10431252922368.0000\n",
      "Epoch 45/50\n",
      "864/864 [==============================] - 5s 6ms/step - loss: 3183385199509504.0000 - val_loss: 4112638541824.0000\n",
      "Epoch 46/50\n",
      "864/864 [==============================] - 6s 6ms/step - loss: 3208230511575040.0000 - val_loss: 54316995969024.0000\n",
      "Epoch 47/50\n",
      "864/864 [==============================] - 5s 6ms/step - loss: 3197978693074944.0000 - val_loss: 92180156776448.0000\n",
      "Epoch 48/50\n",
      "864/864 [==============================] - 5s 6ms/step - loss: 3188426148937728.0000 - val_loss: 16282254573568.0000\n",
      "Epoch 49/50\n",
      "864/864 [==============================] - 5s 5ms/step - loss: 3111048823439360.0000 - val_loss: 1596981116928.0000\n",
      "Epoch 50/50\n",
      "864/864 [==============================] - 5s 6ms/step - loss: 3136432348594176.0000 - val_loss: 23612669034496.0000\n"
     ]
    },
    {
     "data": {
      "text/plain": [
       "<keras.src.callbacks.History at 0x7f7fe9972920>"
      ]
     },
     "execution_count": 106,
     "metadata": {},
     "output_type": "execute_result"
    }
   ],
   "source": [
    "model.fit(X_train_normalized, y_train, epochs=50, batch_size=32, validation_split=0.2)"
   ]
  },
  {
   "cell_type": "code",
   "execution_count": 107,
   "metadata": {},
   "outputs": [
    {
     "name": "stdout",
     "output_type": "stream",
     "text": [
      "271/271 [==============================] - 1s 3ms/step\n",
      "Mean Squared Error: 2.7856237047749376e+18\n"
     ]
    }
   ],
   "source": [
    "predictions = model.predict(X_test_normalized)\n",
    "mse = mean_squared_error(y_test, predictions)\n",
    "print(f'Mean Squared Error: {mse}')"
   ]
  },
  {
   "cell_type": "code",
   "execution_count": 109,
   "metadata": {},
   "outputs": [
    {
     "ename": "ValueError",
     "evalue": "x and y must be the same size",
     "output_type": "error",
     "traceback": [
      "\u001b[0;31m---------------------------------------------------------------------------\u001b[0m",
      "\u001b[0;31mValueError\u001b[0m                                Traceback (most recent call last)",
      "Cell \u001b[0;32mIn[109], line 14\u001b[0m\n\u001b[1;32m     12\u001b[0m \u001b[38;5;66;03m# Plot azimuth prediksi\u001b[39;00m\n\u001b[1;32m     13\u001b[0m predictions_subset \u001b[38;5;241m=\u001b[39m predictions[:num_data_to_plot]\n\u001b[0;32m---> 14\u001b[0m \u001b[43mplt\u001b[49m\u001b[38;5;241;43m.\u001b[39;49m\u001b[43mscatter\u001b[49m\u001b[43m(\u001b[49m\u001b[38;5;28;43mrange\u001b[39;49m\u001b[43m(\u001b[49m\u001b[43mnum_data_to_plot\u001b[49m\u001b[43m)\u001b[49m\u001b[43m,\u001b[49m\u001b[43m \u001b[49m\u001b[43mpredictions_subset\u001b[49m\u001b[43m,\u001b[49m\u001b[43m \u001b[49m\u001b[43mlabel\u001b[49m\u001b[38;5;241;43m=\u001b[39;49m\u001b[38;5;124;43m'\u001b[39;49m\u001b[38;5;124;43mPredicted Azimuth\u001b[39;49m\u001b[38;5;124;43m'\u001b[39;49m\u001b[43m,\u001b[49m\u001b[43m \u001b[49m\u001b[43mcolor\u001b[49m\u001b[38;5;241;43m=\u001b[39;49m\u001b[38;5;124;43m'\u001b[39;49m\u001b[38;5;124;43mred\u001b[39;49m\u001b[38;5;124;43m'\u001b[39;49m\u001b[43m,\u001b[49m\u001b[43m \u001b[49m\u001b[43malpha\u001b[49m\u001b[38;5;241;43m=\u001b[39;49m\u001b[38;5;241;43m0.5\u001b[39;49m\u001b[43m)\u001b[49m\n\u001b[1;32m     16\u001b[0m plt\u001b[38;5;241m.\u001b[39mtitle(\u001b[38;5;124m'\u001b[39m\u001b[38;5;124mActual vs Predicted Azimuth (Subset of 10 data)\u001b[39m\u001b[38;5;124m'\u001b[39m)\n\u001b[1;32m     17\u001b[0m plt\u001b[38;5;241m.\u001b[39mxlabel(\u001b[38;5;124m'\u001b[39m\u001b[38;5;124mData Index\u001b[39m\u001b[38;5;124m'\u001b[39m)\n",
      "File \u001b[0;32m/usr/local/lib/python3.10/dist-packages/matplotlib/pyplot.py:3684\u001b[0m, in \u001b[0;36mscatter\u001b[0;34m(x, y, s, c, marker, cmap, norm, vmin, vmax, alpha, linewidths, edgecolors, plotnonfinite, data, **kwargs)\u001b[0m\n\u001b[1;32m   3665\u001b[0m \u001b[38;5;129m@_copy_docstring_and_deprecators\u001b[39m(Axes\u001b[38;5;241m.\u001b[39mscatter)\n\u001b[1;32m   3666\u001b[0m \u001b[38;5;28;01mdef\u001b[39;00m \u001b[38;5;21mscatter\u001b[39m(\n\u001b[1;32m   3667\u001b[0m     x: \u001b[38;5;28mfloat\u001b[39m \u001b[38;5;241m|\u001b[39m ArrayLike,\n\u001b[0;32m   (...)\u001b[0m\n\u001b[1;32m   3682\u001b[0m     \u001b[38;5;241m*\u001b[39m\u001b[38;5;241m*\u001b[39mkwargs,\n\u001b[1;32m   3683\u001b[0m ) \u001b[38;5;241m-\u001b[39m\u001b[38;5;241m>\u001b[39m PathCollection:\n\u001b[0;32m-> 3684\u001b[0m     __ret \u001b[38;5;241m=\u001b[39m \u001b[43mgca\u001b[49m\u001b[43m(\u001b[49m\u001b[43m)\u001b[49m\u001b[38;5;241;43m.\u001b[39;49m\u001b[43mscatter\u001b[49m\u001b[43m(\u001b[49m\n\u001b[1;32m   3685\u001b[0m \u001b[43m        \u001b[49m\u001b[43mx\u001b[49m\u001b[43m,\u001b[49m\n\u001b[1;32m   3686\u001b[0m \u001b[43m        \u001b[49m\u001b[43my\u001b[49m\u001b[43m,\u001b[49m\n\u001b[1;32m   3687\u001b[0m \u001b[43m        \u001b[49m\u001b[43ms\u001b[49m\u001b[38;5;241;43m=\u001b[39;49m\u001b[43ms\u001b[49m\u001b[43m,\u001b[49m\n\u001b[1;32m   3688\u001b[0m \u001b[43m        \u001b[49m\u001b[43mc\u001b[49m\u001b[38;5;241;43m=\u001b[39;49m\u001b[43mc\u001b[49m\u001b[43m,\u001b[49m\n\u001b[1;32m   3689\u001b[0m \u001b[43m        \u001b[49m\u001b[43mmarker\u001b[49m\u001b[38;5;241;43m=\u001b[39;49m\u001b[43mmarker\u001b[49m\u001b[43m,\u001b[49m\n\u001b[1;32m   3690\u001b[0m \u001b[43m        \u001b[49m\u001b[43mcmap\u001b[49m\u001b[38;5;241;43m=\u001b[39;49m\u001b[43mcmap\u001b[49m\u001b[43m,\u001b[49m\n\u001b[1;32m   3691\u001b[0m \u001b[43m        \u001b[49m\u001b[43mnorm\u001b[49m\u001b[38;5;241;43m=\u001b[39;49m\u001b[43mnorm\u001b[49m\u001b[43m,\u001b[49m\n\u001b[1;32m   3692\u001b[0m \u001b[43m        \u001b[49m\u001b[43mvmin\u001b[49m\u001b[38;5;241;43m=\u001b[39;49m\u001b[43mvmin\u001b[49m\u001b[43m,\u001b[49m\n\u001b[1;32m   3693\u001b[0m \u001b[43m        \u001b[49m\u001b[43mvmax\u001b[49m\u001b[38;5;241;43m=\u001b[39;49m\u001b[43mvmax\u001b[49m\u001b[43m,\u001b[49m\n\u001b[1;32m   3694\u001b[0m \u001b[43m        \u001b[49m\u001b[43malpha\u001b[49m\u001b[38;5;241;43m=\u001b[39;49m\u001b[43malpha\u001b[49m\u001b[43m,\u001b[49m\n\u001b[1;32m   3695\u001b[0m \u001b[43m        \u001b[49m\u001b[43mlinewidths\u001b[49m\u001b[38;5;241;43m=\u001b[39;49m\u001b[43mlinewidths\u001b[49m\u001b[43m,\u001b[49m\n\u001b[1;32m   3696\u001b[0m \u001b[43m        \u001b[49m\u001b[43medgecolors\u001b[49m\u001b[38;5;241;43m=\u001b[39;49m\u001b[43medgecolors\u001b[49m\u001b[43m,\u001b[49m\n\u001b[1;32m   3697\u001b[0m \u001b[43m        \u001b[49m\u001b[43mplotnonfinite\u001b[49m\u001b[38;5;241;43m=\u001b[39;49m\u001b[43mplotnonfinite\u001b[49m\u001b[43m,\u001b[49m\n\u001b[1;32m   3698\u001b[0m \u001b[43m        \u001b[49m\u001b[38;5;241;43m*\u001b[39;49m\u001b[38;5;241;43m*\u001b[39;49m\u001b[43m(\u001b[49m\u001b[43m{\u001b[49m\u001b[38;5;124;43m\"\u001b[39;49m\u001b[38;5;124;43mdata\u001b[39;49m\u001b[38;5;124;43m\"\u001b[39;49m\u001b[43m:\u001b[49m\u001b[43m \u001b[49m\u001b[43mdata\u001b[49m\u001b[43m}\u001b[49m\u001b[43m \u001b[49m\u001b[38;5;28;43;01mif\u001b[39;49;00m\u001b[43m \u001b[49m\u001b[43mdata\u001b[49m\u001b[43m \u001b[49m\u001b[38;5;129;43;01mis\u001b[39;49;00m\u001b[43m \u001b[49m\u001b[38;5;129;43;01mnot\u001b[39;49;00m\u001b[43m \u001b[49m\u001b[38;5;28;43;01mNone\u001b[39;49;00m\u001b[43m \u001b[49m\u001b[38;5;28;43;01melse\u001b[39;49;00m\u001b[43m \u001b[49m\u001b[43m{\u001b[49m\u001b[43m}\u001b[49m\u001b[43m)\u001b[49m\u001b[43m,\u001b[49m\n\u001b[1;32m   3699\u001b[0m \u001b[43m        \u001b[49m\u001b[38;5;241;43m*\u001b[39;49m\u001b[38;5;241;43m*\u001b[39;49m\u001b[43mkwargs\u001b[49m\u001b[43m,\u001b[49m\n\u001b[1;32m   3700\u001b[0m \u001b[43m    \u001b[49m\u001b[43m)\u001b[49m\n\u001b[1;32m   3701\u001b[0m     sci(__ret)\n\u001b[1;32m   3702\u001b[0m     \u001b[38;5;28;01mreturn\u001b[39;00m __ret\n",
      "File \u001b[0;32m/usr/local/lib/python3.10/dist-packages/matplotlib/__init__.py:1465\u001b[0m, in \u001b[0;36m_preprocess_data.<locals>.inner\u001b[0;34m(ax, data, *args, **kwargs)\u001b[0m\n\u001b[1;32m   1462\u001b[0m \u001b[38;5;129m@functools\u001b[39m\u001b[38;5;241m.\u001b[39mwraps(func)\n\u001b[1;32m   1463\u001b[0m \u001b[38;5;28;01mdef\u001b[39;00m \u001b[38;5;21minner\u001b[39m(ax, \u001b[38;5;241m*\u001b[39margs, data\u001b[38;5;241m=\u001b[39m\u001b[38;5;28;01mNone\u001b[39;00m, \u001b[38;5;241m*\u001b[39m\u001b[38;5;241m*\u001b[39mkwargs):\n\u001b[1;32m   1464\u001b[0m     \u001b[38;5;28;01mif\u001b[39;00m data \u001b[38;5;129;01mis\u001b[39;00m \u001b[38;5;28;01mNone\u001b[39;00m:\n\u001b[0;32m-> 1465\u001b[0m         \u001b[38;5;28;01mreturn\u001b[39;00m \u001b[43mfunc\u001b[49m\u001b[43m(\u001b[49m\u001b[43max\u001b[49m\u001b[43m,\u001b[49m\u001b[43m \u001b[49m\u001b[38;5;241;43m*\u001b[39;49m\u001b[38;5;28;43mmap\u001b[39;49m\u001b[43m(\u001b[49m\u001b[43msanitize_sequence\u001b[49m\u001b[43m,\u001b[49m\u001b[43m \u001b[49m\u001b[43margs\u001b[49m\u001b[43m)\u001b[49m\u001b[43m,\u001b[49m\u001b[43m \u001b[49m\u001b[38;5;241;43m*\u001b[39;49m\u001b[38;5;241;43m*\u001b[39;49m\u001b[43mkwargs\u001b[49m\u001b[43m)\u001b[49m\n\u001b[1;32m   1467\u001b[0m     bound \u001b[38;5;241m=\u001b[39m new_sig\u001b[38;5;241m.\u001b[39mbind(ax, \u001b[38;5;241m*\u001b[39margs, \u001b[38;5;241m*\u001b[39m\u001b[38;5;241m*\u001b[39mkwargs)\n\u001b[1;32m   1468\u001b[0m     auto_label \u001b[38;5;241m=\u001b[39m (bound\u001b[38;5;241m.\u001b[39marguments\u001b[38;5;241m.\u001b[39mget(label_namer)\n\u001b[1;32m   1469\u001b[0m                   \u001b[38;5;129;01mor\u001b[39;00m bound\u001b[38;5;241m.\u001b[39mkwargs\u001b[38;5;241m.\u001b[39mget(label_namer))\n",
      "File \u001b[0;32m/usr/local/lib/python3.10/dist-packages/matplotlib/axes/_axes.py:4652\u001b[0m, in \u001b[0;36mAxes.scatter\u001b[0;34m(self, x, y, s, c, marker, cmap, norm, vmin, vmax, alpha, linewidths, edgecolors, plotnonfinite, **kwargs)\u001b[0m\n\u001b[1;32m   4650\u001b[0m y \u001b[38;5;241m=\u001b[39m np\u001b[38;5;241m.\u001b[39mma\u001b[38;5;241m.\u001b[39mravel(y)\n\u001b[1;32m   4651\u001b[0m \u001b[38;5;28;01mif\u001b[39;00m x\u001b[38;5;241m.\u001b[39msize \u001b[38;5;241m!=\u001b[39m y\u001b[38;5;241m.\u001b[39msize:\n\u001b[0;32m-> 4652\u001b[0m     \u001b[38;5;28;01mraise\u001b[39;00m \u001b[38;5;167;01mValueError\u001b[39;00m(\u001b[38;5;124m\"\u001b[39m\u001b[38;5;124mx and y must be the same size\u001b[39m\u001b[38;5;124m\"\u001b[39m)\n\u001b[1;32m   4654\u001b[0m \u001b[38;5;28;01mif\u001b[39;00m s \u001b[38;5;129;01mis\u001b[39;00m \u001b[38;5;28;01mNone\u001b[39;00m:\n\u001b[1;32m   4655\u001b[0m     s \u001b[38;5;241m=\u001b[39m (\u001b[38;5;241m20\u001b[39m \u001b[38;5;28;01mif\u001b[39;00m mpl\u001b[38;5;241m.\u001b[39mrcParams[\u001b[38;5;124m'\u001b[39m\u001b[38;5;124m_internal.classic_mode\u001b[39m\u001b[38;5;124m'\u001b[39m] \u001b[38;5;28;01melse\u001b[39;00m\n\u001b[1;32m   4656\u001b[0m          mpl\u001b[38;5;241m.\u001b[39mrcParams[\u001b[38;5;124m'\u001b[39m\u001b[38;5;124mlines.markersize\u001b[39m\u001b[38;5;124m'\u001b[39m] \u001b[38;5;241m*\u001b[39m\u001b[38;5;241m*\u001b[39m \u001b[38;5;241m2.0\u001b[39m)\n",
      "\u001b[0;31mValueError\u001b[0m: x and y must be the same size"
     ]
    },
    {
     "data": {
      "image/png": "[encoded data removed]",
      "text/plain": [
       "<Figure size 1000x600 with 1 Axes>"
      ]
     },
     "metadata": {},
     "output_type": "display_data"
    }
   ],
   "source": [
    "# Plot hasil prediksi dan data aktual untuk 10 data\n",
    "plt.figure(figsize=(10, 6))\n",
    "\n",
    "# Ambil hanya 10 data\n",
    "num_data_to_plot = 15\n",
    "X_test_subset = X_test[:num_data_to_plot]\n",
    "y_test_subset = y_test[:num_data_to_plot]\n",
    "\n",
    "# Plot azimuth aktual\n",
    "plt.scatter(range(num_data_to_plot), y_test_subset, label='Actual Azimuth', alpha=0.5)\n",
    "\n",
    "# Plot azimuth prediksi\n",
    "predictions_subset = predictions[:num_data_to_plot]\n",
    "plt.scatter(range(num_data_to_plot), predictions_subset, label='Predicted Azimuth', color='red', alpha=0.5)\n",
    "\n",
    "plt.title('Actual vs Predicted Azimuth (Subset of 10 data)')\n",
    "plt.xlabel('Data Index')\n",
    "plt.ylabel('Azimuth')\n",
    "plt.legend()\n",
    "plt.show()\n"
   ]
  }
 ],
 "metadata": {
  "kernelspec": {
   "display_name": "Python 3",
   "language": "python",
   "name": "python3"
  },
  "language_info": {
   "codemirror_mode": {
    "name": "ipython",
    "version": 3
   },
   "file_extension": ".py",
   "mimetype": "text/x-python",
   "name": "python",
   "nbconvert_exporter": "python",
   "pygments_lexer": "ipython3",
   "version": "3.0.0"
  }
 },
 "nbformat": 4,
 "nbformat_minor": 2
}
