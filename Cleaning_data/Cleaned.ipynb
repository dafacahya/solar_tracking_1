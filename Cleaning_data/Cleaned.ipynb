{
 "cells": [
  {
   "cell_type": "code",
   "execution_count": 30,
   "metadata": {},
   "outputs": [],
   "source": [
    "import os \n",
    "import pandas as pd \n",
    "from datetime import datetime"
   ]
  },
  {
   "cell_type": "code",
   "execution_count": 31,
   "metadata": {},
   "outputs": [],
   "source": [
    "mined_data_path = 'solar_data/2023_01/solar_data_january_2023.csv'\n"
   ]
  },
  {
   "cell_type": "code",
   "execution_count": 32,
   "metadata": {},
   "outputs": [],
   "source": [
    "df = pd.read_csv(mined_data_path, sep=';', parse_dates=['DateTime'])"
   ]
  },
  {
   "cell_type": "code",
   "execution_count": 33,
   "metadata": {},
   "outputs": [],
   "source": [
    "df_cleaned = df.dropna()\n",
    "df_cleaned['DateTime'] = pd.to_datetime(df_cleaned['DateTime'])\n",
    "df_cleaned['Timestamp'] = df_cleaned['DateTime'].apply(lambda x: x.timestamp())\n",
    "df_cleaned = df_cleaned.drop(columns=['DateTime']) \n",
    "df_cleaned = df_cleaned[['Timestamp'] + [col for col in df_cleaned.columns if col != 'Timestamp']]\n"
   ]
  },
  {
   "cell_type": "code",
   "execution_count": 34,
   "metadata": {},
   "outputs": [
    {
     "name": "stdout",
     "output_type": "stream",
     "text": [
      "Data yang sudah dibersihkan dan diubah menjadi timestamp disimpan di: cleaned_data/solar_data_january_2023_timestamp.csv\n"
     ]
    }
   ],
   "source": [
    "cleaned_data_path = 'cleaned_data/solar_data_januarygit_2023_timestamp.csv'\n",
    "if not os.path.exists('cleaned_data'):\n",
    "    os.makedirs('cleaned_data')\n",
    "df_cleaned.to_csv(cleaned_data_path, index=False, sep=';')\n",
    "\n",
    "print(f\"Data yang sudah dibersihkan dan diubah menjadi timestamp disimpan di: {cleaned_data_path}\")"
   ]
  }
 ],
 "metadata": {
  "kernelspec": {
   "display_name": "Python 3",
   "language": "python",
   "name": "python3"
  },
  "language_info": {
   "codemirror_mode": {
    "name": "ipython",
    "version": 3
   },
   "file_extension": ".py",
   "mimetype": "text/x-python",
   "name": "python",
   "nbconvert_exporter": "python",
   "pygments_lexer": "ipython3",
   "version": "3.10.11"
  }
 },
 "nbformat": 4,
 "nbformat_minor": 2
}
