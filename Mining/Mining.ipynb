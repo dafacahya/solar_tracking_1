{
 "cells": [
  {
   "cell_type": "code",
   "execution_count": 193,
   "metadata": {},
   "outputs": [],
   "source": [
    "import ephem \n",
    "import pandas as pd\n",
    "from datetime import datetime, timedelta\n",
    "import os"
   ]
  },
  {
   "cell_type": "code",
   "execution_count": 194,
   "metadata": {},
   "outputs": [],
   "source": [
    "# mining data berdasarkan altitude, longitude, date\n",
    "def get_solar_position(latitude, longitude, date):\n",
    "    observer = ephem.Observer()\n",
    "    observer.lat = str(latitude)\n",
    "    observer.lon = str(longitude)\n",
    "    observer.date = date\n",
    "\n",
    "    sun = ephem.Sun(observer)\n",
    "\n",
    "    # Compute Azimuth dan Altitude \n",
    "    azimuth = sun.az * 180 / ephem.pi\n",
    "    altitude = sun.alt *180 / ephem.pi\n",
    "\n",
    "    return azimuth, altitude"
   ]
  },
  {
   "cell_type": "code",
   "execution_count": 195,
   "metadata": {},
   "outputs": [],
   "source": [
    "def create_month_folder(base_directory, year, month):\n",
    "    month_folder = os.path.join(base_directory, f\"{year}_{month:02d}\")\n",
    "    if not os.path.exists(month_folder):\n",
    "        os.makedirs(month_folder)\n",
    "    return month_folder"
   ]
  },
  {
   "cell_type": "code",
   "execution_count": 196,
   "metadata": {},
   "outputs": [],
   "source": [
    "# location\n",
    "latitude = -7.92110\n",
    "longitude = 112.59920"
   ]
  },
  {
   "cell_type": "code",
   "execution_count": 197,
   "metadata": {},
   "outputs": [],
   "source": [
    "# define start and end date\n",
    "start_date = datetime(2023, 12, 1)\n",
    "end_date = datetime(2023, 12, 31)"
   ]
  },
  {
   "cell_type": "code",
   "execution_count": 198,
   "metadata": {},
   "outputs": [],
   "source": [
    "# Interval\n",
    "time_interval = timedelta(minutes= 5)"
   ]
  },
  {
   "cell_type": "code",
   "execution_count": 199,
   "metadata": {},
   "outputs": [],
   "source": [
    "data_list = []\n",
    "\n",
    "current_date = start_date\n",
    "while current_date <= end_date:\n",
    "    azimuth, altitude = get_solar_position(latitude, longitude, current_date)\n",
    "\n",
    "    data_list.append({\n",
    "        'DateTime': current_date, \n",
    "        'Azimuth' : azimuth,\n",
    "        'Altitude' : altitude,\n",
    "        'Latitude' : latitude,\n",
    "        'Longitude' : longitude,\n",
    "    })\n",
    "\n",
    "    current_date += time_interval\n",
    "    \n",
    "df = pd.DataFrame(data_list)"
   ]
  },
  {
   "cell_type": "code",
   "execution_count": 200,
   "metadata": {},
   "outputs": [],
   "source": [
    "base_directory = 'solar_data'"
   ]
  },
  {
   "cell_type": "code",
   "execution_count": 201,
   "metadata": {},
   "outputs": [],
   "source": [
    "# Buat folder baru untuk bulan dan tahun saat ini\n",
    "month_folder = create_month_folder(base_directory, start_date.year, start_date.month)"
   ]
  },
  {
   "cell_type": "code",
   "execution_count": 202,
   "metadata": {},
   "outputs": [
    {
     "name": "stdout",
     "output_type": "stream",
     "text": [
      "Data disimpan di: solar_data\\2023_12\\solar_data_december_2023.csv\n"
     ]
    }
   ],
   "source": [
    "# Simpan DataFrame ke dalam file CSV di dalam folder yang sesuai\n",
    "csv_file_path = os.path.join(month_folder, 'solar_data_december_2023.csv')\n",
    "df.to_csv(csv_file_path, index=False, sep = ';')\n",
    "\n",
    "print(f\"Data disimpan di: {csv_file_path}\")"
   ]
  }
 ],
 "metadata": {
  "kernelspec": {
   "display_name": "Python 3",
   "language": "python",
   "name": "python3"
  },
  "language_info": {
   "codemirror_mode": {
    "name": "ipython",
    "version": 3
   },
   "file_extension": ".py",
   "mimetype": "text/x-python",
   "name": "python",
   "nbconvert_exporter": "python",
   "pygments_lexer": "ipython3",
   "version": "3.10.11"
  }
 },
 "nbformat": 4,
 "nbformat_minor": 2
}
