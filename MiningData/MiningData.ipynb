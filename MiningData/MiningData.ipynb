{
 "cells": [
  {
   "cell_type": "code",
   "execution_count": 1,
   "metadata": {},
   "outputs": [
    {
     "name": "stderr",
     "output_type": "stream",
     "text": [
      "/tmp/ipykernel_804/1063432869.py:2: DeprecationWarning: \n",
      "Pyarrow will become a required dependency of pandas in the next major release of pandas (pandas 3.0),\n",
      "(to allow more performant data types, such as the Arrow string type, and better interoperability with other libraries)\n",
      "but was not found to be installed on your system.\n",
      "If this would cause problems for you,\n",
      "please provide us feedback at https://github.com/pandas-dev/pandas/issues/54466\n",
      "        \n",
      "  import pandas as pd\n"
     ]
    }
   ],
   "source": [
    "import ephem\n",
    "import pandas as pd\n",
    "from datetime import datetime, timedelta\n",
    "import os "
   ]
  },
  {
   "cell_type": "code",
   "execution_count": 2,
   "metadata": {},
   "outputs": [],
   "source": [
    "def get_solar_position(latitude, longtitude, date):\n",
    "    observer = ephem.Observer()\n",
    "    observer.lat = str(latitude)\n",
    "    observer.lon = str(longtitude)\n",
    "    observer.date = date\n",
    "\n",
    "    sun = ephem.Sun(observer)\n",
    "\n",
    "    azimuth = sun.az * 180 / ephem.pi\n",
    "    altitude = sun.alt * 180 / ephem.pi\n",
    "\n",
    "    return azimuth, altitude"
   ]
  },
  {
   "cell_type": "code",
   "execution_count": 3,
   "metadata": {},
   "outputs": [],
   "source": [
    "def create_month_folder(base_directory, year, month):\n",
    "    month_folder = os.path.join(base_directory, f\"{year}_{month:02d}\")\n",
    "    if not os.path.exists(month_folder):\n",
    "        os.makedirs(month_folder)\n",
    "    return month_folder"
   ]
  },
  {
   "cell_type": "code",
   "execution_count": 4,
   "metadata": {},
   "outputs": [],
   "source": [
    "#location \n",
    "latitude = -7.921205\n",
    "longitude = 112.599437"
   ]
  },
  {
   "cell_type": "code",
   "execution_count": 5,
   "metadata": {},
   "outputs": [],
   "source": [
    "#date\n",
    "start_date = datetime(2022, 1, 1)\n",
    "end_date = datetime(2022, 4, 1)"
   ]
  },
  {
   "cell_type": "code",
   "execution_count": 6,
   "metadata": {},
   "outputs": [],
   "source": [
    "#interval \n",
    "time_interval = timedelta(minutes= 10)"
   ]
  },
  {
   "cell_type": "code",
   "execution_count": 7,
   "metadata": {},
   "outputs": [],
   "source": [
    "data_list = []\n",
    "\n",
    "current_date = start_date\n",
    "while current_date <= end_date: \n",
    "    azimuth, altitude = get_solar_position(latitude, longitude, current_date)\n",
    "\n",
    "    data_list.append({\n",
    "        'Datetime': current_date,\n",
    "        'Latitude': latitude,\n",
    "        'Longitude': longitude,\n",
    "        'Azimuth': azimuth, \n",
    "        'Altitude': altitude\n",
    "    })\n",
    "\n",
    "    current_date += time_interval \n",
    "\n",
    "    if current_date.date() == end_date.date() and current_date.time() >= datetime.strptime('23:50', '%H:%M').time():\n",
    "        break\n",
    "\n",
    "df = pd.DataFrame(data_list)"
   ]
  },
  {
   "cell_type": "code",
   "execution_count": 8,
   "metadata": {},
   "outputs": [
    {
     "data": {
      "text/html": [
       "<div>\n",
       "<style scoped>\n",
       "    .dataframe tbody tr th:only-of-type {\n",
       "        vertical-align: middle;\n",
       "    }\n",
       "\n",
       "    .dataframe tbody tr th {\n",
       "        vertical-align: top;\n",
       "    }\n",
       "\n",
       "    .dataframe thead th {\n",
       "        text-align: right;\n",
       "    }\n",
       "</style>\n",
       "<table border=\"1\" class=\"dataframe\">\n",
       "  <thead>\n",
       "    <tr style=\"text-align: right;\">\n",
       "      <th></th>\n",
       "      <th>Datetime</th>\n",
       "      <th>Latitude</th>\n",
       "      <th>Longitude</th>\n",
       "      <th>Azimuth</th>\n",
       "      <th>Altitude</th>\n",
       "    </tr>\n",
       "  </thead>\n",
       "  <tbody>\n",
       "    <tr>\n",
       "      <th>0</th>\n",
       "      <td>2022-01-01 00:00:00</td>\n",
       "      <td>-7.921205</td>\n",
       "      <td>112.599437</td>\n",
       "      <td>111.708420</td>\n",
       "      <td>23.116350</td>\n",
       "    </tr>\n",
       "    <tr>\n",
       "      <th>1</th>\n",
       "      <td>2022-01-01 00:10:00</td>\n",
       "      <td>-7.921205</td>\n",
       "      <td>112.599437</td>\n",
       "      <td>111.776094</td>\n",
       "      <td>25.411932</td>\n",
       "    </tr>\n",
       "    <tr>\n",
       "      <th>2</th>\n",
       "      <td>2022-01-01 00:20:00</td>\n",
       "      <td>-7.921205</td>\n",
       "      <td>112.599437</td>\n",
       "      <td>111.890663</td>\n",
       "      <td>27.706657</td>\n",
       "    </tr>\n",
       "    <tr>\n",
       "      <th>3</th>\n",
       "      <td>2022-01-01 00:30:00</td>\n",
       "      <td>-7.921205</td>\n",
       "      <td>112.599437</td>\n",
       "      <td>112.055373</td>\n",
       "      <td>29.999605</td>\n",
       "    </tr>\n",
       "    <tr>\n",
       "      <th>4</th>\n",
       "      <td>2022-01-01 00:40:00</td>\n",
       "      <td>-7.921205</td>\n",
       "      <td>112.599437</td>\n",
       "      <td>112.274151</td>\n",
       "      <td>32.289815</td>\n",
       "    </tr>\n",
       "    <tr>\n",
       "      <th>5</th>\n",
       "      <td>2022-01-01 00:50:00</td>\n",
       "      <td>-7.921205</td>\n",
       "      <td>112.599437</td>\n",
       "      <td>112.551689</td>\n",
       "      <td>34.576265</td>\n",
       "    </tr>\n",
       "    <tr>\n",
       "      <th>6</th>\n",
       "      <td>2022-01-01 01:00:00</td>\n",
       "      <td>-7.921205</td>\n",
       "      <td>112.599437</td>\n",
       "      <td>112.893629</td>\n",
       "      <td>36.857835</td>\n",
       "    </tr>\n",
       "    <tr>\n",
       "      <th>7</th>\n",
       "      <td>2022-01-01 01:10:00</td>\n",
       "      <td>-7.921205</td>\n",
       "      <td>112.599437</td>\n",
       "      <td>113.306718</td>\n",
       "      <td>39.133275</td>\n",
       "    </tr>\n",
       "    <tr>\n",
       "      <th>8</th>\n",
       "      <td>2022-01-01 01:20:00</td>\n",
       "      <td>-7.921205</td>\n",
       "      <td>112.599437</td>\n",
       "      <td>113.799032</td>\n",
       "      <td>41.401154</td>\n",
       "    </tr>\n",
       "    <tr>\n",
       "      <th>9</th>\n",
       "      <td>2022-01-01 01:30:00</td>\n",
       "      <td>-7.921205</td>\n",
       "      <td>112.599437</td>\n",
       "      <td>114.380267</td>\n",
       "      <td>43.659836</td>\n",
       "    </tr>\n",
       "  </tbody>\n",
       "</table>\n",
       "</div>"
      ],
      "text/plain": [
       "             Datetime  Latitude   Longitude     Azimuth   Altitude\n",
       "0 2022-01-01 00:00:00 -7.921205  112.599437  111.708420  23.116350\n",
       "1 2022-01-01 00:10:00 -7.921205  112.599437  111.776094  25.411932\n",
       "2 2022-01-01 00:20:00 -7.921205  112.599437  111.890663  27.706657\n",
       "3 2022-01-01 00:30:00 -7.921205  112.599437  112.055373  29.999605\n",
       "4 2022-01-01 00:40:00 -7.921205  112.599437  112.274151  32.289815\n",
       "5 2022-01-01 00:50:00 -7.921205  112.599437  112.551689  34.576265\n",
       "6 2022-01-01 01:00:00 -7.921205  112.599437  112.893629  36.857835\n",
       "7 2022-01-01 01:10:00 -7.921205  112.599437  113.306718  39.133275\n",
       "8 2022-01-01 01:20:00 -7.921205  112.599437  113.799032  41.401154\n",
       "9 2022-01-01 01:30:00 -7.921205  112.599437  114.380267  43.659836"
      ]
     },
     "execution_count": 8,
     "metadata": {},
     "output_type": "execute_result"
    }
   ],
   "source": [
    "df.head(10)"
   ]
  },
  {
   "cell_type": "code",
   "execution_count": null,
   "metadata": {},
   "outputs": [],
   "source": []
  }
 ],
 "metadata": {
  "kernelspec": {
   "display_name": "Python 3",
   "language": "python",
   "name": "python3"
  },
  "language_info": {
   "codemirror_mode": {
    "name": "ipython",
    "version": 3
   },
   "file_extension": ".py",
   "mimetype": "text/x-python",
   "name": "python",
   "nbconvert_exporter": "python",
   "pygments_lexer": "ipython3",
   "version": "3.10.12"
  }
 },
 "nbformat": 4,
 "nbformat_minor": 2
}
